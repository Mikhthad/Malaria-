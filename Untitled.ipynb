{
 "cells": [
  {
   "cell_type": "code",
   "execution_count": 28,
   "id": "fd4d17d8-39a3-4dc4-9a38-da8e09ac0149",
   "metadata": {},
   "outputs": [],
   "source": [
    "import tensorflow as tf\n"
   ]
  },
  {
   "cell_type": "code",
   "execution_count": 30,
   "id": "177401c7-4095-4c7f-b628-9ee4b8c2a69a",
   "metadata": {},
   "outputs": [],
   "source": [
    "data_dir = r'C:\\Users\\ADMIN\\OneDrive\\Desktop\\Deep Learning\\Malaria\\cell_images'"
   ]
  },
  {
   "cell_type": "code",
   "execution_count": 83,
   "id": "017bb1ef-098d-4410-8d6b-de8eb7fd61a7",
   "metadata": {},
   "outputs": [
    {
     "name": "stdout",
     "output_type": "stream",
     "text": [
      "Found 27558 files belonging to 2 classes.\n"
     ]
    }
   ],
   "source": [
    "img_size = (128, 128)     # Resize all images to this size\n",
    "batch_size = 32           # Number of images in each batch\n",
    "\n",
    "dataset = tf.keras.utils.image_dataset_from_directory(\n",
    "    directory=data_dir,          # 🔹 Main folder path\n",
    "    labels='inferred',           # 🔹 Infer labels from folder names\n",
    "    label_mode='int',            # 🔹 Output labels as integers (0,1,2...) — use 'categorical' for one-hot\n",
    "    image_size=img_size,         # 🔹 Resize all images to (128x128)\n",
    "    batch_size=batch_size,       # 🔹 Divide images into batches\n",
    "    shuffle=True,                # 🔹 Shuffle the dataset\n",
    "    seed=42                      # 🔹 For reproducible shuffling\n",
    ")"
   ]
  },
  {
   "cell_type": "code",
   "execution_count": 81,
   "id": "a9a2378b-4947-4e5d-8ebe-8bc7fba7a44e",
   "metadata": {},
   "outputs": [
    {
     "data": {
      "text/plain": [
       "<_PrefetchDataset element_spec=(TensorSpec(shape=(None, 256, 256, 3), dtype=tf.float32, name=None), TensorSpec(shape=(None,), dtype=tf.int32, name=None))>"
      ]
     },
     "execution_count": 81,
     "metadata": {},
     "output_type": "execute_result"
    }
   ],
   "source": [
    "dataset"
   ]
  },
  {
   "cell_type": "code",
   "execution_count": 55,
   "id": "1bfdd061-a2ca-4491-ab3e-e9f649b8bf33",
   "metadata": {},
   "outputs": [
    {
     "name": "stdout",
     "output_type": "stream",
     "text": [
      "Class names: ['Parasitized', 'Uninfected']\n",
      "Images shape: (32, 128, 128, 3)\n",
      "Labels: [1 1 0 0 0 1 1 1 1 0 1 1 1 0 1 0 1 1 1 0 0 1 0 0 0 1 0 1 1 0 1 1]\n"
     ]
    }
   ],
   "source": [
    "class_names = dataset.class_names\n",
    "print(\"Class names:\", class_names)\n",
    "\n",
    "# View first batch\n",
    "for images, labels in dataset.take(1):\n",
    "    print(\"Images shape:\", images.shape)\n",
    "    print(\"Labels:\", labels.numpy())\n"
   ]
  },
  {
   "cell_type": "code",
   "execution_count": 57,
   "id": "b364cd1f-6288-444b-a890-665d0cc40462",
   "metadata": {},
   "outputs": [
    {
     "data": {
      "text/plain": [
       "['Parasitized', 'Uninfected']"
      ]
     },
     "execution_count": 57,
     "metadata": {},
     "output_type": "execute_result"
    }
   ],
   "source": [
    "dataset.class_names"
   ]
  },
  {
   "cell_type": "code",
   "execution_count": 69,
   "id": "98bfc790-184b-4487-878d-448918d5a04a",
   "metadata": {},
   "outputs": [
    {
     "name": "stdout",
     "output_type": "stream",
     "text": [
      "Total images: 27558\n"
     ]
    }
   ],
   "source": [
    "image_count = 0\n",
    "for batch in dataset:\n",
    "    image_count += batch[0].shape[0]\n",
    "print(\"Total images:\", image_count)"
   ]
  },
  {
   "cell_type": "code",
   "execution_count": null,
   "id": "240ce975-e79f-4da7-88bc-16b988b821ef",
   "metadata": {},
   "outputs": [],
   "source": []
  }
 ],
 "metadata": {
  "kernelspec": {
   "display_name": "Python (tf_env)",
   "language": "python",
   "name": "tf_env"
  },
  "language_info": {
   "codemirror_mode": {
    "name": "ipython",
    "version": 3
   },
   "file_extension": ".py",
   "mimetype": "text/x-python",
   "name": "python",
   "nbconvert_exporter": "python",
   "pygments_lexer": "ipython3",
   "version": "3.10.16"
  }
 },
 "nbformat": 4,
 "nbformat_minor": 5
}
