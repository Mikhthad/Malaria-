{
  "cells": [
    {
      "cell_type": "markdown",
      "metadata": {
        "id": "view-in-github",
        "colab_type": "text"
      },
      "source": [
        "<a href=\"https://colab.research.google.com/github/Mikhthad/Malaria-/blob/main/malaria.ipynb\" target=\"_parent\"><img src=\"https://colab.research.google.com/assets/colab-badge.svg\" alt=\"Open In Colab\"/></a>"
      ]
    },
    {
      "cell_type": "code",
      "execution_count": null,
      "id": "f6f65240-9f9b-4112-b298-42b880c92c8b",
      "metadata": {
        "id": "f6f65240-9f9b-4112-b298-42b880c92c8b"
      },
      "outputs": [],
      "source": [
        "# pip install tensorflow-datasets"
      ]
    },
    {
      "cell_type": "code",
      "source": [
        "from google.colab import drive\n",
        "drive.mount('/content/drive')"
      ],
      "metadata": {
        "id": "GRi6-hr7wDMT"
      },
      "id": "GRi6-hr7wDMT",
      "execution_count": null,
      "outputs": []
    },
    {
      "cell_type": "code",
      "execution_count": null,
      "id": "423c0053-6a18-4b46-aba7-f6534a4ce574",
      "metadata": {
        "id": "423c0053-6a18-4b46-aba7-f6534a4ce574"
      },
      "outputs": [],
      "source": [
        "import tensorflow_datasets as tfds\n",
        "import pandas as pd"
      ]
    },
    {
      "cell_type": "code",
      "execution_count": null,
      "id": "88706f89-079c-4b4b-97d3-1d97fe30d991",
      "metadata": {
        "id": "88706f89-079c-4b4b-97d3-1d97fe30d991"
      },
      "outputs": [],
      "source": [
        "pip list"
      ]
    },
    {
      "cell_type": "code",
      "execution_count": null,
      "id": "1ed36d62-08c3-4f34-9fe6-f405ddc404c2",
      "metadata": {
        "id": "1ed36d62-08c3-4f34-9fe6-f405ddc404c2"
      },
      "outputs": [],
      "source": [
        "import os\n",
        "\n",
        "os.environ['TFDS_DATA_DIR'] = \"C:\\\\tensorflow_datasets\""
      ]
    },
    {
      "cell_type": "code",
      "execution_count": null,
      "id": "0674341e-57b9-4606-b92c-a316ceb9a6b1",
      "metadata": {
        "id": "0674341e-57b9-4606-b92c-a316ceb9a6b1"
      },
      "outputs": [],
      "source": [
        "dataset,dataset_info  = tfds.load('malaria',data_dir=\"C:\\\\tensorflow_datasets\",with_info=True,as_supervised=True,shuffle_files=True,split=['train'])"
      ]
    },
    {
      "cell_type": "code",
      "execution_count": null,
      "id": "ca980f1e-3f3e-4bad-b9c2-52e2677c7b6d",
      "metadata": {
        "id": "ca980f1e-3f3e-4bad-b9c2-52e2677c7b6d"
      },
      "outputs": [],
      "source": [
        "dataset"
      ]
    },
    {
      "cell_type": "code",
      "execution_count": null,
      "id": "069f24e1-76e0-4327-857f-bb1cf5c2b3f7",
      "metadata": {
        "id": "069f24e1-76e0-4327-857f-bb1cf5c2b3f7"
      },
      "outputs": [],
      "source": [
        "dataset_info"
      ]
    },
    {
      "cell_type": "code",
      "execution_count": null,
      "id": "17d76e06-f5b2-4ff3-8fc2-20522c236aea",
      "metadata": {
        "id": "17d76e06-f5b2-4ff3-8fc2-20522c236aea"
      },
      "outputs": [],
      "source": [
        "len(dataset)"
      ]
    },
    {
      "cell_type": "code",
      "execution_count": null,
      "id": "d4ac6771-0fef-4036-816d-2b7c589a675f",
      "metadata": {
        "id": "d4ac6771-0fef-4036-816d-2b7c589a675f"
      },
      "outputs": [],
      "source": [
        "def splits(dataset,TRAIN_RATIO,VAL_RATIO,TEST_RATIO):\n",
        "    DATASET_SIZE = len(dataset)\n",
        "    train_dataset = dataset.take(int(TRAIN_RATIO*DATASET_SIZE))\n",
        "    val_test_dataset = dataset.skip(int(TRAIN_RATIO*DATASET_SIZE))\n",
        "    val_dataset = val_test_dataset.take(int(VAL_RATIO*DATASET_SIZE))\n",
        "    test_dataset = val_test_dataset.skip(int(VAL_RATIO*DATASET_SIZE))\n",
        "    return train_dataset,val_dataset,test_dataset"
      ]
    },
    {
      "cell_type": "code",
      "execution_count": null,
      "id": "7d8cab47-52e6-49a7-a316-4bef7e55b2fa",
      "metadata": {
        "id": "7d8cab47-52e6-49a7-a316-4bef7e55b2fa"
      },
      "outputs": [],
      "source": [
        "TRAIN_RATIO = 0.8\n",
        "VAL_RATIO = 0.1\n",
        "TEST_RATIO = 0.1\n",
        "\n",
        "train_dataset,val_dataset,test_dataset = splits(dataset[0],TRAIN_RATIO,VAL_RATIO,TEST_RATIO)"
      ]
    },
    {
      "cell_type": "code",
      "execution_count": null,
      "id": "0bfc4898-7254-4a6c-b57d-4ae8d12b120f",
      "metadata": {
        "id": "0bfc4898-7254-4a6c-b57d-4ae8d12b120f"
      },
      "outputs": [],
      "source": [
        "train_dataset"
      ]
    },
    {
      "cell_type": "code",
      "execution_count": null,
      "id": "7f3b30a0-850b-4efc-8f9f-125413fc0c87",
      "metadata": {
        "id": "7f3b30a0-850b-4efc-8f9f-125413fc0c87"
      },
      "outputs": [],
      "source": [
        "val_dataset"
      ]
    },
    {
      "cell_type": "code",
      "execution_count": null,
      "id": "3a457777-a56a-48e4-886f-0bb48bf4c9b9",
      "metadata": {
        "id": "3a457777-a56a-48e4-886f-0bb48bf4c9b9"
      },
      "outputs": [],
      "source": [
        "import matplotlib.pyplot as plt"
      ]
    },
    {
      "cell_type": "code",
      "execution_count": null,
      "id": "42867d38-7918-41a6-9a8c-90b6c00b49f8",
      "metadata": {
        "id": "42867d38-7918-41a6-9a8c-90b6c00b49f8"
      },
      "outputs": [],
      "source": [
        "for i, (image,label) in enumerate(train_dataset.take(16)):\n",
        "    ax = plt.subplot(4,4,i+1)\n",
        "    plt.imshow(image)\n",
        "    plt.title(dataset_info.features['label'].int2str(label))\n",
        "    plt.axis(\"off\")"
      ]
    },
    {
      "cell_type": "code",
      "execution_count": null,
      "id": "521be872-fa25-4919-850f-99fa9a43b570",
      "metadata": {
        "id": "521be872-fa25-4919-850f-99fa9a43b570"
      },
      "outputs": [],
      "source": [
        "im_size = 224"
      ]
    },
    {
      "cell_type": "code",
      "execution_count": null,
      "id": "e38b9386-b882-4bc6-9ce3-6a3357ff7e16",
      "metadata": {
        "id": "e38b9386-b882-4bc6-9ce3-6a3357ff7e16"
      },
      "outputs": [],
      "source": [
        "image"
      ]
    },
    {
      "cell_type": "code",
      "execution_count": null,
      "id": "82714db2-79ce-4079-aec3-8c73d5e3cafb",
      "metadata": {
        "id": "82714db2-79ce-4079-aec3-8c73d5e3cafb"
      },
      "outputs": [],
      "source": [
        "plt.imshow(image)"
      ]
    },
    {
      "cell_type": "code",
      "execution_count": null,
      "id": "757dae89-d3c8-444a-a366-9fbccbaac8c9",
      "metadata": {
        "id": "757dae89-d3c8-444a-a366-9fbccbaac8c9"
      },
      "outputs": [],
      "source": [
        "import numpy as np\n",
        "import matplotlib.pyplot as plt\n",
        "import tensorflow as tf\n",
        "from tensorflow.keras.models import Model\n",
        "from tensorflow.keras.layers import Conv2D, MaxPooling2D, Input, Flatten, Dense, Dropout\n",
        "from tensorflow.keras.preprocessing import image\n",
        "from tensorflow.keras.applications.vgg16 import preprocess_input"
      ]
    },
    {
      "cell_type": "code",
      "execution_count": null,
      "id": "a1bf30c8-1dbe-4188-bfc8-633b1453a500",
      "metadata": {
        "id": "a1bf30c8-1dbe-4188-bfc8-633b1453a500"
      },
      "outputs": [],
      "source": [
        "IM_SIZE = 224"
      ]
    },
    {
      "cell_type": "code",
      "execution_count": null,
      "id": "05f8f8d7-ac86-4263-b3d2-a1ef50e1be46",
      "metadata": {
        "id": "05f8f8d7-ac86-4263-b3d2-a1ef50e1be46"
      },
      "outputs": [],
      "source": [
        "def resize_rescale(image,label):\n",
        "    return tf.image.resize(image,(IM_SIZE,IM_SIZE))/255.0,label"
      ]
    },
    {
      "cell_type": "code",
      "execution_count": null,
      "id": "b077b2ac-bb33-4256-9f2c-cc87a3d40aa7",
      "metadata": {
        "id": "b077b2ac-bb33-4256-9f2c-cc87a3d40aa7"
      },
      "outputs": [],
      "source": [
        "image"
      ]
    },
    {
      "cell_type": "code",
      "execution_count": null,
      "id": "97b159f4-7341-43fb-9e63-97b5e6fd2e4c",
      "metadata": {
        "id": "97b159f4-7341-43fb-9e63-97b5e6fd2e4c"
      },
      "outputs": [],
      "source": [
        "train_dataset"
      ]
    },
    {
      "cell_type": "code",
      "execution_count": null,
      "id": "23e5f555-92b7-4fca-98e3-b2c8eeb02db4",
      "metadata": {
        "id": "23e5f555-92b7-4fca-98e3-b2c8eeb02db4"
      },
      "outputs": [],
      "source": [
        "BATCH_SIZE = 32\n",
        "train_dataset  =train_dataset.map(resize_rescale).shuffle(buffer_size=8,reshuffle_each_iteration=True).batch(BATCH_SIZE).prefetch(tf.data.AUTOTUNE)\n",
        "val_dataset  =val_dataset.map(resize_rescale).shuffle(buffer_size=8,reshuffle_each_iteration=True).batch(BATCH_SIZE).prefetch(tf.data.AUTOTUNE)\n",
        "test_dataset  =test_dataset.map(resize_rescale).shuffle(buffer_size=8,reshuffle_each_iteration=True).batch(BATCH_SIZE).prefetch(tf.data.AUTOTUNE)"
      ]
    },
    {
      "cell_type": "code",
      "execution_count": null,
      "id": "322ce228-9689-4cef-a9e8-de02ddad2c9c",
      "metadata": {
        "id": "322ce228-9689-4cef-a9e8-de02ddad2c9c"
      },
      "outputs": [],
      "source": [
        "train_dataset"
      ]
    },
    {
      "cell_type": "code",
      "execution_count": null,
      "id": "630d8e1e-683f-4ff0-abd6-3aeb6a5ba925",
      "metadata": {
        "id": "630d8e1e-683f-4ff0-abd6-3aeb6a5ba925"
      },
      "outputs": [],
      "source": [
        "from tensorflow.keras.layers import BatchNormalization\n",
        "from tensorflow.keras.layers import InputLayer\n",
        "from tensorflow.keras import layers"
      ]
    },
    {
      "cell_type": "code",
      "execution_count": null,
      "id": "3def3c47-a56f-41bf-bb35-2a232429d1bf",
      "metadata": {
        "id": "3def3c47-a56f-41bf-bb35-2a232429d1bf"
      },
      "outputs": [],
      "source": [
        "model = tf.keras.Sequential([\n",
        "    InputLayer(input_shape=(IM_SIZE, IM_SIZE, 3)),\n",
        "    layers.Conv2D(filters=6, kernel_size=5, strides=1, padding=\"valid\"),\n",
        "    BatchNormalization(),\n",
        "    layers.ReLU(),\n",
        "\n",
        "    layers.MaxPool2D(pool_size=2, strides=2),\n",
        "    layers.Conv2D(filters=16, kernel_size=5, strides=1, padding=\"valid\"),\n",
        "    BatchNormalization(),\n",
        "    layers.ReLU(),\n",
        "\n",
        "    layers.MaxPool2D(pool_size=2, strides=2),\n",
        "    layers.Flatten(),\n",
        "    layers.Dense(1000),\n",
        "    BatchNormalization(),\n",
        "    layers.ReLU(),\n",
        "\n",
        "    layers.Dense(100),\n",
        "    BatchNormalization(),\n",
        "    layers.ReLU(),\n",
        "\n",
        "    layers.Dense(1, activation='sigmoid')\n",
        "])"
      ]
    },
    {
      "cell_type": "code",
      "execution_count": null,
      "id": "1be87cf3-cfd9-4284-9383-4e22db7aa8d8",
      "metadata": {
        "id": "1be87cf3-cfd9-4284-9383-4e22db7aa8d8"
      },
      "outputs": [],
      "source": [
        "model.summary()"
      ]
    },
    {
      "cell_type": "code",
      "execution_count": null,
      "id": "3895475c-24de-4137-9c44-47c7cbdf8e85",
      "metadata": {
        "id": "3895475c-24de-4137-9c44-47c7cbdf8e85"
      },
      "outputs": [],
      "source": [
        "from tensorflow.keras.optimizers import Adam\n",
        "from tensorflow.keras.losses import BinaryCrossentropy"
      ]
    },
    {
      "cell_type": "code",
      "execution_count": null,
      "id": "9d1976e3-c144-475e-83e3-3f27cbd42c6c",
      "metadata": {
        "id": "9d1976e3-c144-475e-83e3-3f27cbd42c6c"
      },
      "outputs": [],
      "source": [
        "model.compile(\n",
        "    optimizer=Adam(learning_rate=0.01),\n",
        "    loss=BinaryCrossentropy(),\n",
        "    metrics=['accuracy']\n",
        ")\n"
      ]
    },
    {
      "cell_type": "code",
      "execution_count": null,
      "id": "7b184458-392a-488c-a246-3af89e599bb0",
      "metadata": {
        "id": "7b184458-392a-488c-a246-3af89e599bb0"
      },
      "outputs": [],
      "source": [
        "history = model.fit(train_dataset,epochs=10,validation_data=val_dataset,verbose=1)"
      ]
    },
    {
      "cell_type": "code",
      "execution_count": null,
      "id": "59fbd927-9c67-41af-b7cf-3b3b302cb1e4",
      "metadata": {
        "id": "59fbd927-9c67-41af-b7cf-3b3b302cb1e4"
      },
      "outputs": [],
      "source": [
        "y_pred = model.predict(test_dataset)\n",
        "y_pred"
      ]
    },
    {
      "cell_type": "code",
      "execution_count": null,
      "id": "aecdc098-c6dd-4c46-8aed-618fb4d39bb8",
      "metadata": {
        "id": "aecdc098-c6dd-4c46-8aed-618fb4d39bb8"
      },
      "outputs": [],
      "source": []
    },
    {
      "cell_type": "code",
      "source": [
        "import numpy as np\n",
        "pred = np.where(y_pred>0.5,1,0)\n",
        "pred"
      ],
      "metadata": {
        "id": "cBDeo-xHof3Q"
      },
      "id": "cBDeo-xHof3Q",
      "execution_count": null,
      "outputs": []
    },
    {
      "cell_type": "code",
      "source": [
        "a = [100,3100,400,200,500,600]"
      ],
      "metadata": {
        "id": "Atl-4wmNpcCI"
      },
      "id": "Atl-4wmNpcCI",
      "execution_count": null,
      "outputs": []
    },
    {
      "cell_type": "code",
      "source": [
        "np.argmax(a)"
      ],
      "metadata": {
        "id": "v6fxygIPplKx"
      },
      "id": "v6fxygIPplKx",
      "execution_count": null,
      "outputs": []
    },
    {
      "cell_type": "code",
      "execution_count": null,
      "id": "23385582-269e-44be-abf7-915b67b575e9",
      "metadata": {
        "id": "23385582-269e-44be-abf7-915b67b575e9"
      },
      "outputs": [],
      "source": [
        "# accuracy_score(test_dataset,y_pred)"
      ]
    },
    {
      "cell_type": "code",
      "execution_count": null,
      "id": "adc0d5c5-bbbf-4d98-8abe-acf53f1c4782",
      "metadata": {
        "id": "adc0d5c5-bbbf-4d98-8abe-acf53f1c4782"
      },
      "outputs": [],
      "source": [
        "test_dataset"
      ]
    },
    {
      "cell_type": "code",
      "execution_count": null,
      "id": "169af7c8-b5ee-4136-9308-45ebfd5068cc",
      "metadata": {
        "id": "169af7c8-b5ee-4136-9308-45ebfd5068cc"
      },
      "outputs": [],
      "source": [
        "history.history"
      ]
    },
    {
      "cell_type": "code",
      "source": [
        "model.evaluate(test_dataset)"
      ],
      "metadata": {
        "id": "Z5xXfnrWmLT9"
      },
      "id": "Z5xXfnrWmLT9",
      "execution_count": null,
      "outputs": []
    },
    {
      "cell_type": "code",
      "source": [
        "from sklearn.metrics import classification_report"
      ],
      "metadata": {
        "id": "Xq20XPS5m0fC"
      },
      "id": "Xq20XPS5m0fC",
      "execution_count": null,
      "outputs": []
    },
    {
      "cell_type": "code",
      "source": [
        "true_labels = np.concatenate([y for x, y in test_dataset], axis=0)\n",
        "print(classification_report(true_labels,pred))"
      ],
      "metadata": {
        "id": "d6iO2PiJrqer"
      },
      "id": "d6iO2PiJrqer",
      "execution_count": null,
      "outputs": []
    },
    {
      "cell_type": "code",
      "source": [
        "from sklearn.metrics import confusion_matrix"
      ],
      "metadata": {
        "id": "L8-S0jvgxGSb"
      },
      "id": "L8-S0jvgxGSb",
      "execution_count": null,
      "outputs": []
    },
    {
      "cell_type": "code",
      "source": [
        "confusion_matrix(true_labels,pred)"
      ],
      "metadata": {
        "id": "Zzahax9HxKsM"
      },
      "id": "Zzahax9HxKsM",
      "execution_count": null,
      "outputs": []
    },
    {
      "cell_type": "code",
      "source": [
        "model.count_params()"
      ],
      "metadata": {
        "id": "VXDS_QBaryei"
      },
      "id": "VXDS_QBaryei",
      "execution_count": null,
      "outputs": []
    },
    {
      "cell_type": "code",
      "source": [],
      "metadata": {
        "id": "oVeWQtvns_r3"
      },
      "id": "oVeWQtvns_r3",
      "execution_count": null,
      "outputs": []
    },
    {
      "cell_type": "code",
      "source": [
        "model.save('Malaria_detection.h5')"
      ],
      "metadata": {
        "id": "R36XJV1btJih"
      },
      "id": "R36XJV1btJih",
      "execution_count": null,
      "outputs": []
    },
    {
      "cell_type": "code",
      "source": [],
      "metadata": {
        "id": "soML9IQwuvl4"
      },
      "id": "soML9IQwuvl4",
      "execution_count": null,
      "outputs": []
    }
  ],
  "metadata": {
    "accelerator": "GPU",
    "colab": {
      "gpuType": "T4",
      "provenance": [],
      "include_colab_link": true
    },
    "kernelspec": {
      "display_name": "Python (tf_env)",
      "language": "python",
      "name": "tf_env"
    },
    "language_info": {
      "codemirror_mode": {
        "name": "ipython",
        "version": 3
      },
      "file_extension": ".py",
      "mimetype": "text/x-python",
      "name": "python",
      "nbconvert_exporter": "python",
      "pygments_lexer": "ipython3",
      "version": "3.10.16"
    }
  },
  "nbformat": 4,
  "nbformat_minor": 5
}